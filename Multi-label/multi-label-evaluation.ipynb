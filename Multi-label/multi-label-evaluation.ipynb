{
 "cells": [
  {
   "cell_type": "code",
   "execution_count": null,
   "id": "349a12ee-6d36-439e-99c0-e0f802be74c8",
   "metadata": {},
   "outputs": [],
   "source": [
    "from fastai.vision.all import *\n",
    "import fastai\n",
    "import timm\n",
    "import albumentations as A\n",
    "\n",
    "# In[2]:\n",
    "\n",
    "\n",
    "import torch\n",
    "torch.cuda.set_device(0)"
   ]
  },
  {
   "cell_type": "code",
   "execution_count": null,
   "id": "454b5768-b1b8-46f2-b8a6-82285aabdf27",
   "metadata": {},
   "outputs": [],
   "source": [
    "dfNew = pd.read_csv('multi-label-annotation.csv')"
   ]
  },
  {
   "cell_type": "code",
   "execution_count": null,
   "id": "fdea6feb-9147-4334-adfe-1e1117bc02ab",
   "metadata": {},
   "outputs": [],
   "source": [
    "dfNew=dfNew[dfNew.tags!='NRG']"
   ]
  },
  {
   "cell_type": "code",
   "execution_count": null,
   "id": "94471c8a-63a2-4e09-97e0-26a35a5cc218",
   "metadata": {},
   "outputs": [],
   "source": [
    "dfNew"
   ]
  },
  {
   "cell_type": "code",
   "execution_count": null,
   "id": "ec92c2ee-182a-4120-b96a-d9a2d9bceca6",
   "metadata": {},
   "outputs": [],
   "source": [
    "def is_valid(path):\n",
    "    name = path[0]\n",
    "    return (dfNew[dfNew['Eye ID']==name])['label'].values[0]=='valid'\n",
    "\n",
    "\n",
    "db = DataBlock(blocks = (ImageBlock, MultiCategoryBlock),\n",
    "             splitter=FuncSplitter(is_valid),\n",
    "             get_x = ColReader(-3),\n",
    "             get_y=ColReader(-1,label_delim=' '),\n",
    "             item_tfms = [Resize(384)], # CropPad(200,200)\n",
    "             batch_tfms=[*aug_transforms(size=384, min_scale=0.75,do_flip=True,flip_vert=True,\n",
    "                  max_rotate=2.,max_zoom=1.1, max_warp=0.05,p_affine=0.9, p_lighting=0.8), \n",
    "                         Normalize.from_stats(*imagenet_stats)])\n"
   ]
  },
  {
   "cell_type": "code",
   "execution_count": null,
   "id": "789a2630-cfd3-4183-b3d3-50b64d7081f8",
   "metadata": {},
   "outputs": [],
   "source": [
    "dls = db.dataloaders(dfNew.values,bs=8)"
   ]
  },
  {
   "cell_type": "code",
   "execution_count": null,
   "id": "2d6abc2e-d00e-4977-80fd-1e080eac3c39",
   "metadata": {},
   "outputs": [],
   "source": [
    "dls.show_batch(max_n=9, figsize=(12,9))"
   ]
  },
  {
   "cell_type": "code",
   "execution_count": null,
   "id": "339116de-49b8-408d-8096-a3200a530f07",
   "metadata": {},
   "outputs": [],
   "source": [
    "learn_multi_label = load_learner('convnext_base_384_in22ft1k_multi_labelv3.pkl')"
   ]
  },
  {
   "cell_type": "code",
   "execution_count": null,
   "id": "9f5a0de6-c37b-4867-9211-34b2b02b3798",
   "metadata": {},
   "outputs": [],
   "source": [
    "learn_multi_label.dls = dls"
   ]
  },
  {
   "cell_type": "code",
   "execution_count": null,
   "id": "0f09afd8-08d8-49d0-bf4f-f1617ac351b6",
   "metadata": {},
   "outputs": [],
   "source": [
    "preds,gt = learn_multi_label.get_preds()"
   ]
  },
  {
   "cell_type": "code",
   "execution_count": null,
   "id": "218840d9-6581-460d-b067-87a453a21915",
   "metadata": {},
   "outputs": [],
   "source": [
    "def hamming_loss(true_labels, predicted_labels):\n",
    "    \"\"\"Calculate the Hamming loss for the given true and predicted labels.\"\"\"\n",
    "    # Convert to numpy arrays for efficient computation\n",
    "    true_labels = np.array(true_labels)\n",
    "    predicted_labels = np.array(predicted_labels)\n",
    "\n",
    "    # Calculate the hamming distance that is basically the total number of mismatches\n",
    "    Hamming_distance = np.sum(np.not_equal(true_labels, predicted_labels))\n",
    "    print(\"Hamming distance\", Hamming_distance)\n",
    "    \n",
    "    # Calculate the total number of labels\n",
    "    total_corrected_labels= true_labels.size\n",
    "\n",
    "    # Compute the Modified Hamming loss\n",
    "    loss = Hamming_distance / total_corrected_labels\n",
    "    return loss"
   ]
  },
  {
   "cell_type": "code",
   "execution_count": null,
   "id": "ef23ca8e-d3db-47f9-9710-a66935551b38",
   "metadata": {},
   "outputs": [],
   "source": [
    "preds"
   ]
  },
  {
   "cell_type": "code",
   "execution_count": null,
   "id": "99760692-9a70-4003-b64d-fef63669af17",
   "metadata": {},
   "outputs": [],
   "source": [
    "hamming_loss(gt,preds > 0.5)"
   ]
  },
  {
   "cell_type": "code",
   "execution_count": null,
   "id": "89a0828f-27aa-498e-b7ec-c35ee100f118",
   "metadata": {},
   "outputs": [],
   "source": [
    "learn_multi_label.remove_cbs(learn_multi_label.cbs)"
   ]
  },
  {
   "cell_type": "code",
   "execution_count": null,
   "id": "d2dbc8b9-9418-4b05-988d-70bd2da9ad32",
   "metadata": {},
   "outputs": [],
   "source": [
    "learn_multi_label.remove_cbs([Recorder,ProgressCallback,SaveModelCallback])"
   ]
  },
  {
   "cell_type": "code",
   "execution_count": null,
   "id": "519dd477-342e-4e0d-bd4b-a3218d53526d",
   "metadata": {},
   "outputs": [],
   "source": [
    "predstta,_ = learn_multi_label.tta()"
   ]
  },
  {
   "cell_type": "code",
   "execution_count": null,
   "id": "8cd348c0-88d1-4d71-bb9a-2ae431522778",
   "metadata": {},
   "outputs": [],
   "source": [
    "hamming_loss(gt,predstta > 0.5)"
   ]
  },
  {
   "cell_type": "code",
   "execution_count": null,
   "id": "87d172ea-37e0-4191-ac55-2715693d95a9",
   "metadata": {},
   "outputs": [],
   "source": []
  }
 ],
 "metadata": {
  "kernelspec": {
   "display_name": "Python [conda env:fastai]",
   "language": "python",
   "name": "conda-env-fastai-py"
  },
  "language_info": {
   "codemirror_mode": {
    "name": "ipython",
    "version": 3
   },
   "file_extension": ".py",
   "mimetype": "text/x-python",
   "name": "python",
   "nbconvert_exporter": "python",
   "pygments_lexer": "ipython3",
   "version": "3.10.10"
  }
 },
 "nbformat": 4,
 "nbformat_minor": 5
}
