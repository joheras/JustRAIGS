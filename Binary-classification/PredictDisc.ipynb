{
 "cells": [
  {
   "cell_type": "code",
   "execution_count": 27,
   "id": "6ec09521-f4ac-4dc6-8108-52cfa4b1ce82",
   "metadata": {},
   "outputs": [
    {
     "name": "stderr",
     "output_type": "stream",
     "text": [
      "Could not find image processor class in the image processor config or the model config. Loading based on pattern matching with the model's feature extractor configuration. Please open a PR/issue to update `preprocessor_config.json` to use `image_processor_type` instead of `feature_extractor_type`. This warning will be removed in v4.40.\n",
      "/home/joheras/.local/lib/python3.10/site-packages/transformers/models/segformer/image_processing_segformer.py:101: FutureWarning: The `reduce_labels` parameter is deprecated and will be removed in a future version. Please use `do_reduce_labels` instead.\n",
      "  warnings.warn(\n"
     ]
    }
   ],
   "source": [
    "import cv2\n",
    "import torch\n",
    "import numpy as np\n",
    "from PIL import Image\n",
    "from torch import nn\n",
    "from transformers import AutoImageProcessor, SegformerForSemanticSegmentation\n",
    "processor = AutoImageProcessor.from_pretrained(\"pamixsun/segformer_for_optic_disc_cup_segmentation\")\n",
    "model = SegformerForSemanticSegmentation.from_pretrained(\"pamixsun/segformer_for_optic_disc_cup_segmentation\")\n",
    "# model.cuda()\n",
    "from numpy import asarray"
   ]
  },
  {
   "cell_type": "code",
   "execution_count": 35,
   "id": "e6bcc73d-b994-488d-820b-1368eeca96a6",
   "metadata": {},
   "outputs": [],
   "source": [
    "def prediction(image,processor,model):\n",
    "    # image_new = asarray(Image.open(image))\n",
    "    # try:\n",
    "        # image = cv2.imread(image)\n",
    "        # image_new = cv2.cvtColor(image, cv2.COLOR_BGR2RGB)\n",
    "        # (h,w)=image_new.shape[:2]\n",
    "        image_new = asarray(Image.open(image))\n",
    "        (h,w)=image_new.shape[:2]\n",
    "\n",
    "        inputs = processor(image_new, return_tensors=\"pt\")\n",
    "        inputs.to(\"cuda\")\n",
    "        # inputs = inputs.to(torch.float16)\n",
    "\n",
    "        with torch.no_grad():\n",
    "            outputs = model(**inputs)\n",
    "            logits = outputs.logits\n",
    "\n",
    "        upsampled_logits = nn.functional.interpolate(\n",
    "            logits,\n",
    "            size=image_new.shape[:2],\n",
    "            mode=\"bilinear\",\n",
    "            align_corners=False,\n",
    "        )\n",
    "\n",
    "        pred_disc_cup = upsampled_logits.argmax(dim=1)[0].cpu().numpy().astype(np.uint8)\n",
    "\n",
    "        pred_disc_cup[pred_disc_cup == 2] = 128\n",
    "        pred_disc_cup[pred_disc_cup == 1] = 255\n",
    "        img = pred_disc_cup.copy()\n",
    "        img[img<200]=0\n",
    "        contours, _ = cv2.findContours(img, cv2.RETR_EXTERNAL, cv2.CHAIN_APPROX_NONE)\n",
    "        if (len(contours)  ==0):\n",
    "            return 0\n",
    "        scontours = sorted(contours, key=cv2.contourArea, reverse=True)\n",
    "        _,_,_,h = cv2.boundingRect(scontours[0])\n",
    "        img = pred_disc_cup\n",
    "        img[img>200]=0\n",
    "        img[img>100]=255\n",
    "        contours, _ = cv2.findContours(img, cv2.RETR_EXTERNAL, cv2.CHAIN_APPROX_NONE)\n",
    "        scontours = sorted(contours, key=cv2.contourArea, reverse=True)\n",
    "        _,_,_,h2 = cv2.boundingRect(scontours[0])\n",
    "        \n",
    "        return h2/h\n",
    "    # except:\n",
    "    #     return 0\n",
    "\n",
    "    # return pred_disc_cup\n",
    "    # disk = np.sum(pred_disc_cup == 1)\n",
    "    # cup = np.sum(pred_disc_cup == 2)\n",
    "    # ratio = cup/disk\n",
    "    # return torch.Tensor([1-ratio,ratio])"
   ]
  },
  {
   "cell_type": "code",
   "execution_count": 36,
   "id": "01d63b97-3252-4c6b-8fbd-f90c36ea18d1",
   "metadata": {},
   "outputs": [],
   "source": [
    "model.cuda();"
   ]
  },
  {
   "cell_type": "code",
   "execution_count": 37,
   "id": "611bebab-f685-494d-8256-758e3f298741",
   "metadata": {},
   "outputs": [
    {
     "data": {
      "text/plain": [
       "0.4901185770750988"
      ]
     },
     "execution_count": 37,
     "metadata": {},
     "output_type": "execute_result"
    }
   ],
   "source": [
    "prediction('tmp/image_1.jpg',processor,model)"
   ]
  },
  {
   "cell_type": "code",
   "execution_count": 15,
   "id": "ef1c7f1f-feaf-45dc-a345-c9ace2a1889d",
   "metadata": {},
   "outputs": [
    {
     "name": "stderr",
     "output_type": "stream",
     "text": [
      "  8%|▊         | 8223/101425 [3:49:33<46:18:34,  1.79s/it]"
     ]
    },
    {
     "name": "stdout",
     "output_type": "stream",
     "text": [
      "Error processing .ipynb_checkpoints: OpenCV(4.7.0) /io/opencv/modules/imgproc/src/color.cpp:182: error: (-215:Assertion failed) !_src.empty() in function 'cvtColor'\n",
      "\n"
     ]
    },
    {
     "name": "stderr",
     "output_type": "stream",
     "text": [
      " 29%|██▉       | 29722/101425 [13:43:37<28:28:04,  1.43s/it]IOPub message rate exceeded.\n",
      "The Jupyter server will temporarily stop sending output\n",
      "to the client in order to avoid crashing it.\n",
      "To change this limit, set the config variable\n",
      "`--ServerApp.iopub_msg_rate_limit`.\n",
      "\n",
      "Current values:\n",
      "ServerApp.iopub_msg_rate_limit=1000.0 (msgs/sec)\n",
      "ServerApp.rate_limit_window=3.0 (secs)\n",
      "\n",
      " 41%|████▏     | 42070/101425 [19:24:41<32:01:54,  1.94s/it]IOPub message rate exceeded.\n",
      "The Jupyter server will temporarily stop sending output\n",
      "to the client in order to avoid crashing it.\n",
      "To change this limit, set the config variable\n",
      "`--ServerApp.iopub_msg_rate_limit`.\n",
      "\n",
      "Current values:\n",
      "ServerApp.iopub_msg_rate_limit=1000.0 (msgs/sec)\n",
      "ServerApp.rate_limit_window=3.0 (secs)\n",
      "\n",
      " 88%|████████▊ | 88913/101425 [41:07:36<6:59:34,  2.01s/it] IOPub message rate exceeded.\n",
      "The Jupyter server will temporarily stop sending output\n",
      "to the client in order to avoid crashing it.\n",
      "To change this limit, set the config variable\n",
      "`--ServerApp.iopub_msg_rate_limit`.\n",
      "\n",
      "Current values:\n",
      "ServerApp.iopub_msg_rate_limit=1000.0 (msgs/sec)\n",
      "ServerApp.rate_limit_window=3.0 (secs)\n",
      "\n",
      "100%|██████████| 101425/101425 [46:47:44<00:00,  1.66s/it]\n"
     ]
    }
   ],
   "source": [
    "from tqdm import tqdm\n",
    "import os\n",
    "#target_size = (2124, 2056)  # Tamaño deseado de las máscaras\n",
    "#target_size = (1634, 1634)\n",
    "for file in tqdm(os.listdir('train/')):\n",
    "    try:\n",
    "        \n",
    "        Image.fromarray(prediction('train/'+file,processor,model)).save('trainMask/' + file.replace('.jpg', '.png'))\n",
    "        \n",
    "    except Exception as e:\n",
    "        print(f\"Error processing {file}: {str(e)}\")"
   ]
  },
  {
   "cell_type": "code",
   "execution_count": 20,
   "id": "5cbc95b4-6669-40d7-8443-0d618eba26f4",
   "metadata": {},
   "outputs": [],
   "source": [
    "import json\n",
    "import tempfile\n",
    "from pathlib import Path\n",
    "from pprint import pprint\n",
    "\n",
    "\n",
    "from PIL import Image"
   ]
  },
  {
   "cell_type": "code",
   "execution_count": 21,
   "id": "e63559b1-3d64-4c6f-a8a7-e259a6588b74",
   "metadata": {},
   "outputs": [],
   "source": [
    "temp_dir = \"tmp\""
   ]
  },
  {
   "cell_type": "code",
   "execution_count": 38,
   "id": "c222db7e-6089-4249-9096-3d7ccaad446b",
   "metadata": {},
   "outputs": [
    {
     "ename": "DecompressionBombError",
     "evalue": "Image size (5210645355 pixels) exceeds limit of 178956970 pixels, could be decompression bomb DOS attack.",
     "output_type": "error",
     "traceback": [
      "\u001b[0;31m---------------------------------------------------------------------------\u001b[0m",
      "\u001b[0;31mDecompressionBombError\u001b[0m                    Traceback (most recent call last)",
      "Cell \u001b[0;32mIn[38], line 1\u001b[0m\n\u001b[0;32m----> 1\u001b[0m \u001b[38;5;28;01mwith\u001b[39;00m \u001b[43mImage\u001b[49m\u001b[38;5;241;43m.\u001b[39;49m\u001b[43mopen\u001b[49m\u001b[43m(\u001b[49m\u001b[38;5;124;43m'\u001b[39;49m\u001b[38;5;124;43mexample-algorithm/test/input/stacked-color-fundus-images/images/image.tif\u001b[39;49m\u001b[38;5;124;43m'\u001b[39;49m\u001b[43m)\u001b[49m \u001b[38;5;28;01mas\u001b[39;00m tiff_image:\n\u001b[1;32m      2\u001b[0m \n\u001b[1;32m      3\u001b[0m     \u001b[38;5;66;03m# Iterate through all pages\u001b[39;00m\n\u001b[1;32m      4\u001b[0m     \u001b[38;5;28mprint\u001b[39m(tiff_image\u001b[38;5;241m.\u001b[39mn_frames)\n\u001b[1;32m      5\u001b[0m     \u001b[38;5;28;01mfor\u001b[39;00m page_num \u001b[38;5;129;01min\u001b[39;00m \u001b[38;5;28mrange\u001b[39m(tiff_image\u001b[38;5;241m.\u001b[39mn_frames):\n\u001b[1;32m      6\u001b[0m         \u001b[38;5;66;03m# Select the current page\u001b[39;00m\n",
      "File \u001b[0;32m/opt/anaconda/envs/fastai/lib/python3.10/site-packages/PIL/Image.py:3277\u001b[0m, in \u001b[0;36mopen\u001b[0;34m(fp, mode, formats)\u001b[0m\n\u001b[1;32m   3274\u001b[0m             \u001b[38;5;28;01mraise\u001b[39;00m\n\u001b[1;32m   3275\u001b[0m     \u001b[38;5;28;01mreturn\u001b[39;00m \u001b[38;5;28;01mNone\u001b[39;00m\n\u001b[0;32m-> 3277\u001b[0m im \u001b[38;5;241m=\u001b[39m \u001b[43m_open_core\u001b[49m\u001b[43m(\u001b[49m\u001b[43mfp\u001b[49m\u001b[43m,\u001b[49m\u001b[43m \u001b[49m\u001b[43mfilename\u001b[49m\u001b[43m,\u001b[49m\u001b[43m \u001b[49m\u001b[43mprefix\u001b[49m\u001b[43m,\u001b[49m\u001b[43m \u001b[49m\u001b[43mformats\u001b[49m\u001b[43m)\u001b[49m\n\u001b[1;32m   3279\u001b[0m \u001b[38;5;28;01mif\u001b[39;00m im \u001b[38;5;129;01mis\u001b[39;00m \u001b[38;5;28;01mNone\u001b[39;00m \u001b[38;5;129;01mand\u001b[39;00m formats \u001b[38;5;129;01mis\u001b[39;00m ID:\n\u001b[1;32m   3280\u001b[0m     checked_formats \u001b[38;5;241m=\u001b[39m formats\u001b[38;5;241m.\u001b[39mcopy()\n",
      "File \u001b[0;32m/opt/anaconda/envs/fastai/lib/python3.10/site-packages/PIL/Image.py:3264\u001b[0m, in \u001b[0;36mopen.<locals>._open_core\u001b[0;34m(fp, filename, prefix, formats)\u001b[0m\n\u001b[1;32m   3262\u001b[0m         fp\u001b[38;5;241m.\u001b[39mseek(\u001b[38;5;241m0\u001b[39m)\n\u001b[1;32m   3263\u001b[0m         im \u001b[38;5;241m=\u001b[39m factory(fp, filename)\n\u001b[0;32m-> 3264\u001b[0m         \u001b[43m_decompression_bomb_check\u001b[49m\u001b[43m(\u001b[49m\u001b[43mim\u001b[49m\u001b[38;5;241;43m.\u001b[39;49m\u001b[43msize\u001b[49m\u001b[43m)\u001b[49m\n\u001b[1;32m   3265\u001b[0m         \u001b[38;5;28;01mreturn\u001b[39;00m im\n\u001b[1;32m   3266\u001b[0m \u001b[38;5;28;01mexcept\u001b[39;00m (\u001b[38;5;167;01mSyntaxError\u001b[39;00m, \u001b[38;5;167;01mIndexError\u001b[39;00m, \u001b[38;5;167;01mTypeError\u001b[39;00m, struct\u001b[38;5;241m.\u001b[39merror):\n\u001b[1;32m   3267\u001b[0m     \u001b[38;5;66;03m# Leave disabled by default, spams the logs with image\u001b[39;00m\n\u001b[1;32m   3268\u001b[0m     \u001b[38;5;66;03m# opening failures that are entirely expected.\u001b[39;00m\n\u001b[1;32m   3269\u001b[0m     \u001b[38;5;66;03m# logger.debug(\"\", exc_info=True)\u001b[39;00m\n",
      "File \u001b[0;32m/opt/anaconda/envs/fastai/lib/python3.10/site-packages/PIL/Image.py:3173\u001b[0m, in \u001b[0;36m_decompression_bomb_check\u001b[0;34m(size)\u001b[0m\n\u001b[1;32m   3168\u001b[0m \u001b[38;5;28;01mif\u001b[39;00m pixels \u001b[38;5;241m>\u001b[39m \u001b[38;5;241m2\u001b[39m \u001b[38;5;241m*\u001b[39m MAX_IMAGE_PIXELS:\n\u001b[1;32m   3169\u001b[0m     msg \u001b[38;5;241m=\u001b[39m (\n\u001b[1;32m   3170\u001b[0m         \u001b[38;5;124mf\u001b[39m\u001b[38;5;124m\"\u001b[39m\u001b[38;5;124mImage size (\u001b[39m\u001b[38;5;132;01m{\u001b[39;00mpixels\u001b[38;5;132;01m}\u001b[39;00m\u001b[38;5;124m pixels) exceeds limit of \u001b[39m\u001b[38;5;132;01m{\u001b[39;00m\u001b[38;5;241m2\u001b[39m \u001b[38;5;241m*\u001b[39m MAX_IMAGE_PIXELS\u001b[38;5;132;01m}\u001b[39;00m\u001b[38;5;124m \u001b[39m\u001b[38;5;124m\"\u001b[39m\n\u001b[1;32m   3171\u001b[0m         \u001b[38;5;124m\"\u001b[39m\u001b[38;5;124mpixels, could be decompression bomb DOS attack.\u001b[39m\u001b[38;5;124m\"\u001b[39m\n\u001b[1;32m   3172\u001b[0m     )\n\u001b[0;32m-> 3173\u001b[0m     \u001b[38;5;28;01mraise\u001b[39;00m DecompressionBombError(msg)\n\u001b[1;32m   3175\u001b[0m \u001b[38;5;28;01mif\u001b[39;00m pixels \u001b[38;5;241m>\u001b[39m MAX_IMAGE_PIXELS:\n\u001b[1;32m   3176\u001b[0m     warnings\u001b[38;5;241m.\u001b[39mwarn(\n\u001b[1;32m   3177\u001b[0m         \u001b[38;5;124mf\u001b[39m\u001b[38;5;124m\"\u001b[39m\u001b[38;5;124mImage size (\u001b[39m\u001b[38;5;132;01m{\u001b[39;00mpixels\u001b[38;5;132;01m}\u001b[39;00m\u001b[38;5;124m pixels) exceeds limit of \u001b[39m\u001b[38;5;132;01m{\u001b[39;00mMAX_IMAGE_PIXELS\u001b[38;5;132;01m}\u001b[39;00m\u001b[38;5;124m pixels, \u001b[39m\u001b[38;5;124m\"\u001b[39m\n\u001b[1;32m   3178\u001b[0m         \u001b[38;5;124m\"\u001b[39m\u001b[38;5;124mcould be decompression bomb DOS attack.\u001b[39m\u001b[38;5;124m\"\u001b[39m,\n\u001b[1;32m   3179\u001b[0m         DecompressionBombWarning,\n\u001b[1;32m   3180\u001b[0m     )\n",
      "\u001b[0;31mDecompressionBombError\u001b[0m: Image size (5210645355 pixels) exceeds limit of 178956970 pixels, could be decompression bomb DOS attack."
     ]
    }
   ],
   "source": [
    "with Image.open('example-algorithm/test/input/stacked-color-fundus-images/images/image.tif') as tiff_image:\n",
    "\n",
    "    # Iterate through all pages\n",
    "    print(tiff_image.n_frames)\n",
    "    for page_num in range(tiff_image.n_frames):\n",
    "        # Select the current page\n",
    "        tiff_image.seek(page_num)\n",
    "\n",
    "        # Define the output file path\n",
    "        output_path = Path(temp_dir) / f\"image_{page_num + 1}.jpg\"\n",
    "        tiff_image.save(output_path, \"JPEG\")\n",
    "\n",
    "        # de_stacked_images.append(output_path)\n",
    "\n",
    "        print(f\"De-Stacked {output_path}\")"
   ]
  },
  {
   "cell_type": "code",
   "execution_count": null,
   "id": "45488024-3d1b-46b4-8b5d-b889b8d044cb",
   "metadata": {},
   "outputs": [],
   "source": []
  }
 ],
 "metadata": {
  "kernelspec": {
   "display_name": "Python [conda env:fastai]",
   "language": "python",
   "name": "conda-env-fastai-py"
  },
  "language_info": {
   "codemirror_mode": {
    "name": "ipython",
    "version": 3
   },
   "file_extension": ".py",
   "mimetype": "text/x-python",
   "name": "python",
   "nbconvert_exporter": "python",
   "pygments_lexer": "ipython3",
   "version": "3.10.10"
  }
 },
 "nbformat": 4,
 "nbformat_minor": 5
}
